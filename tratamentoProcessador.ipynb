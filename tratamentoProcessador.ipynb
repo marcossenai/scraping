{
 "cells": [
  {
   "cell_type": "code",
   "execution_count": null,
   "metadata": {},
   "outputs": [],
   "source": [
    "import pandas as pd\n",
    "import matplotlib.pyplot as plt\n",
    "\n",
    "# Carregar os dados\n",
    "df = pd.read_excel('processadores_limpo.xlsx')"
   ]
  },
  {
   "cell_type": "code",
   "execution_count": null,
   "metadata": {},
   "outputs": [],
   "source": [
    "# 1. Análise por Fabricante\n",
    "total_vendas_fabricante = df.groupby('fabricante')['preço'].sum()\n",
    "\n",
    "print(\"Total de vendas por fabricante:\")\n",
    "print(total_vendas_fabricante)\n",
    "\n",
    "total_vendas_fabricante.plot(kind='bar', color=['red', 'blue'])\n",
    "plt.title('Valor total por fabricante')\n",
    "plt.xlabel('Fabricante')\n",
    "plt.ylabel('Valor total (R$)')\n",
    "plt.xticks(rotation=0)\n",
    "plt.grid(axis='y')\n",
    "plt.show()"
   ]
  },
  {
   "cell_type": "code",
   "execution_count": null,
   "metadata": {},
   "outputs": [],
   "source": [
    "# 2. Preço médio por soquete\n",
    "preco_medio_soquete = df.groupby('Soquetes')['preço'].mean().sort_values(ascending=False)\n",
    "\n",
    "print(\"\\nPreço médio por soquete:\")\n",
    "print(preco_medio_soquete)\n",
    "\n",
    "preco_medio_soquete.plot(kind='bar', color='purple')\n",
    "plt.title('Preço médio por tipo de soquete')\n",
    "plt.xlabel('Soquete')\n",
    "plt.ylabel('Preço médio (R$)')\n",
    "plt.xticks(rotation=45)\n",
    "plt.grid(axis='y')\n",
    "plt.show()"
   ]
  },
  {
   "cell_type": "code",
   "execution_count": null,
   "metadata": {},
   "outputs": [],
   "source": [
    "# 3. Quantidade de modelos por série\n",
    "df['serie'] = df['Modelo'].str.extract(r'(Ryzen \\d|Core i\\d)')\n",
    "qtd_modelos_serie = df['serie'].value_counts()\n",
    "\n",
    "print(\"\\nQuantidade de modelos por série:\")\n",
    "print(qtd_modelos_serie)\n",
    "\n",
    "qtd_modelos_serie.plot(kind='bar', color='orange')\n",
    "plt.title('Quantidade de modelos por série')\n",
    "plt.xlabel('Série')\n",
    "plt.ylabel('Quantidade')\n",
    "plt.xticks(rotation=45)\n",
    "plt.grid(axis='y')\n",
    "plt.show()"
   ]
  },
  {
   "cell_type": "code",
   "execution_count": null,
   "metadata": {},
   "outputs": [],
   "source": [
    "# 4. Top 10 processadores mais caros\n",
    "top10_caros = df.nlargest(10, 'preço').set_index('Modelo')['preço']\n",
    "\n",
    "print(\"\\nTop 10 processadores mais caros:\")\n",
    "print(top10_caros)\n",
    "\n",
    "top10_caros.plot(kind='barh', color='darkred')\n",
    "plt.title('Top 10 processadores mais caros')\n",
    "plt.xlabel('Preço (R$)')\n",
    "plt.ylabel('Modelo')\n",
    "plt.grid(axis='x')\n",
    "plt.show()"
   ]
  },
  {
   "cell_type": "code",
   "execution_count": null,
   "metadata": {},
   "outputs": [],
   "source": [
    "# 5. Comparação com/sem vídeo integrado\n",
    "df['tem_video'] = df['marca'].str.contains('Vídeo Integrado|Radeon Graphics', case=False)\n",
    "preco_video = df.groupby('tem_video')['preço'].mean()\n",
    "\n",
    "print(\"\\nPreço médio com/sem vídeo integrado:\")\n",
    "print(preco_video)\n",
    "\n",
    "preco_video.plot(kind='bar', color=['gray', 'green'])\n",
    "plt.title('Preço médio: com vs sem vídeo integrado')\n",
    "plt.xlabel('Tem vídeo integrado?')\n",
    "plt.ylabel('Preço médio (R$)')\n",
    "plt.xticks([0, 1], ['Não', 'Sim'], rotation=0)\n",
    "plt.grid(axis='y')\n",
    "plt.show()"
   ]
  },
  {
   "cell_type": "code",
   "execution_count": null,
   "metadata": {},
   "outputs": [],
   "source": []
  }
 ],
 "metadata": {
  "kernelspec": {
   "display_name": "Python 3",
   "language": "python",
   "name": "python3"
  },
  "language_info": {
   "codemirror_mode": {
    "name": "ipython",
    "version": 3
   },
   "file_extension": ".py",
   "mimetype": "text/x-python",
   "name": "python",
   "nbconvert_exporter": "python",
   "pygments_lexer": "ipython3",
   "version": "3.12.1"
  }
 },
 "nbformat": 4,
 "nbformat_minor": 2
}
