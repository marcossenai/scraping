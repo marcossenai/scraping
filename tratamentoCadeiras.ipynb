{
 "cells": [
  {
   "cell_type": "code",
   "execution_count": 1,
   "metadata": {},
   "outputs": [],
   "source": [
    "import pandas as pd\n",
    "\n",
    "df = pd.read_excel('cadeiras.xlsx')"
   ]
  },
  {
   "cell_type": "code",
   "execution_count": 2,
   "metadata": {},
   "outputs": [
    {
     "name": "stdout",
     "output_type": "stream",
     "text": [
      "0    599.90\n",
      "1    599.90\n",
      "2    889.90\n",
      "3    889.90\n",
      "4    839.90\n",
      "5    749.00\n",
      "6    511.41\n",
      "7    889.90\n",
      "8    589.90\n",
      "9    889.90\n",
      "Name: preço, dtype: float64\n"
     ]
    }
   ],
   "source": [
    "# transformar os valores de strings em numeros\n",
    "\n",
    "df['preço'] = df['preço'].str.replace('R$', '') \n",
    "df['preço'] = df['preço'].str.replace('.', '',)\n",
    "df['preço'] = df['preço'].str.replace(',', '.') \n",
    "df['preço'] = df['preço'].str.strip() \n",
    "df['preço'] = df['preço'].astype(float)\n",
    "\n",
    "print(df['preço'].head(10))\n"
   ]
  },
  {
   "cell_type": "code",
   "execution_count": 3,
   "metadata": {},
   "outputs": [],
   "source": [
    "# dicionario de cores\n",
    "\n",
    "dicionario_cores = {\n",
    "    'Preto': ['preto', 'preta', 'black', 'Black'],\n",
    "    'Branco': ['branco', 'branca', 'white', 'White'],\n",
    "    'Vermelho': ['vermelho', 'vermelha', 'red', 'Red'],\n",
    "    'Cinza': ['cinza', 'silver', 'prata', 'Silver', 'gray', 'grey', 'Gray', 'Grey'],\n",
    "    'Azul': ['azul', 'blue', 'Blue'],\n",
    "    'Rosa': ['rosa', 'pink', 'Pink'],\n",
    "    'Verde': ['verde', 'green', 'Green'],\n",
    "    'Amarelo': ['amarelo', 'amarela', 'yellow', 'Yellow'],\n",
    "    'Roxo': ['roxo', 'purple', 'violeta', 'Purple'],\n",
    "    'Laranja': ['laranja', 'orange', 'Orange'],\n",
    "    'Marrom': ['marrom', 'brown', 'Brown'],\n",
    "    'Bege': ['bege', 'beige', 'Beige']\n",
    "}"
   ]
  },
  {
   "cell_type": "code",
   "execution_count": 4,
   "metadata": {},
   "outputs": [],
   "source": [
    "def detectar_cor(texto, dicionario):\n",
    "    if isinstance(texto, str):\n",
    "        texto = texto.lower()\n",
    "        for cor_padrao, variacoes in dicionario.items():\n",
    "            for termo in variacoes:\n",
    "                if termo.lower() in texto:\n",
    "                    return cor_padrao\n",
    "    return 'Cor não identificada'"
   ]
  },
  {
   "cell_type": "code",
   "execution_count": 5,
   "metadata": {},
   "outputs": [],
   "source": [
    "#Criando lista de cores\n",
    "\n",
    "lista_cores = []\n",
    "for marca in df['marca']:\n",
    "    cor_detectada = detectar_cor(marca, dicionario_cores)\n",
    "    lista_cores.append(cor_detectada)"
   ]
  },
  {
   "cell_type": "code",
   "execution_count": 6,
   "metadata": {},
   "outputs": [],
   "source": [
    "#adicionando coluna\n",
    "\n",
    "df['cor'] = lista_cores"
   ]
  },
  {
   "cell_type": "code",
   "execution_count": 7,
   "metadata": {},
   "outputs": [
    {
     "name": "stdout",
     "output_type": "stream",
     "text": [
      "                                               marca     cor\n",
      "0  Cadeira Gamer KBM! GAMING CG200, Preto - Pistã...   Preto\n",
      "1  Cadeira Gamer KBM! GAMING CG200, Preto e Branc...   Preto\n",
      "2  Cadeira Gamer KBM! GAMING Tempest CG600, Preta...   Preto\n",
      "3  Cadeira Gamer KBM! GAMING Tempest CG600, Branc...  Branco\n",
      "4  Cadeira Gamer KBM! GAMING Tempest CG500 Preta ...   Preto\n"
     ]
    }
   ],
   "source": [
    "\n",
    "# mostrando a coluna\n",
    "\n",
    "# 6. Mostrar os primeiros resultados\n",
    "print(df[['marca', 'cor']].head())"
   ]
  }
 ],
 "metadata": {
  "kernelspec": {
   "display_name": "Python 3",
   "language": "python",
   "name": "python3"
  },
  "language_info": {
   "codemirror_mode": {
    "name": "ipython",
    "version": 3
   },
   "file_extension": ".py",
   "mimetype": "text/x-python",
   "name": "python",
   "nbconvert_exporter": "python",
   "pygments_lexer": "ipython3",
   "version": "3.12.1"
  }
 },
 "nbformat": 4,
 "nbformat_minor": 2
}
