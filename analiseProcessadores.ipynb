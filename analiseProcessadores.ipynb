{
 "cells": [
  {
   "cell_type": "code",
   "execution_count": null,
   "metadata": {},
   "outputs": [],
   "source": [
    "import pandas as pd\n",
    "import matplotlib.pyplot as plt\n",
    "import seaborn as sns\n",
    "\n",
    "# Carregar os dados\n",
    "df = pd.read_excel('processadores_limpo.xlsx')\n",
    "\n",
    "# Verificar estrutura\n",
    "print(df.head())\n",
    "print(df.info())\n",
    "\n",
    "# Limpeza básica (se necessário)\n",
    "df['preço'] = pd.to_numeric(df['preço'], errors='coerce')\n",
    "df.dropna(subset=['preço'], inplace=True)\n",
    "\n",
    "# Extrair informações dos nomes dos processadores (se necessário)\n",
    "# Podemos extrair geração, núcleos, threads, etc. dos nomes"
   ]
  },
  {
   "cell_type": "code",
   "execution_count": null,
   "metadata": {},
   "outputs": [],
   "source": [
    "# Contagem por fabricante\n",
    "plt.figure(figsize=(10,6))\n",
    "sns.countplot(data=df, x='fabricante', order=df['fabricante'].value_counts().index)\n",
    "plt.title('Distribuição de Processadores por Fabricante')\n",
    "plt.xlabel('Fabricante')\n",
    "plt.ylabel('Contagem')\n",
    "plt.show()\n",
    "\n",
    "# Preço médio por fabricante\n",
    "plt.figure(figsize=(10,6))\n",
    "sns.barplot(data=df, x='fabricante', y='preço', estimator='mean')\n",
    "plt.title('Preço Médio por Fabricante')\n",
    "plt.xlabel('Fabricante')\n",
    "plt.ylabel('Preço Médio (R$)')\n",
    "plt.show()"
   ]
  },
  {
   "cell_type": "code",
   "execution_count": null,
   "metadata": {},
   "outputs": [],
   "source": [
    "# Extrair série/modelo (exemplo para AMD)\n",
    "df['série'] = df['marca'].apply(lambda x: x.split()[2] if 'AMD' in x else x.split()[2] + ' ' + x.split()[3])\n",
    "\n",
    "# Top 10 séries mais comuns\n",
    "top_series = df['série'].value_counts().head(10)\n",
    "\n",
    "plt.figure(figsize=(12,6))\n",
    "sns.barplot(x=top_series.index, y=top_series.values)\n",
    "plt.title('Top 10 Séries de Processadores Mais Comuns')\n",
    "plt.xlabel('Série')\n",
    "plt.ylabel('Contagem')\n",
    "plt.xticks(rotation=45)\n",
    "plt.show()"
   ]
  },
  {
   "cell_type": "code",
   "execution_count": null,
   "metadata": {},
   "outputs": [],
   "source": [
    "# Top 10 processadores mais caros\n",
    "top_expensive = df.sort_values('preço', ascending=False).head(10)\n",
    "\n",
    "plt.figure(figsize=(12,6))\n",
    "sns.barplot(data=top_expensive, x='preço', y='marca', hue='fabricante', dodge=False)\n",
    "plt.title('Top 10 Processadores Mais Caros')\n",
    "plt.xlabel('Preço (R$)')\n",
    "plt.ylabel('Modelo')\n",
    "plt.tight_layout()\n",
    "plt.show()"
   ]
  }
 ],
 "metadata": {
  "kernelspec": {
   "display_name": "Python 3",
   "language": "python",
   "name": "python3"
  },
  "language_info": {
   "codemirror_mode": {
    "name": "ipython",
    "version": 3
   },
   "file_extension": ".py",
   "mimetype": "text/x-python",
   "name": "python",
   "nbconvert_exporter": "python",
   "pygments_lexer": "ipython3",
   "version": "3.12.1"
  }
 },
 "nbformat": 4,
 "nbformat_minor": 2
}
